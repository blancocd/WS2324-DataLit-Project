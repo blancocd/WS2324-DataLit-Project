{
  "cells": [
    {
      "cell_type": "code",
      "execution_count": 6,
      "metadata": {
        "id": "21Y_klefb4gJ"
      },
      "outputs": [],
      "source": [
        "import pandas as pd"
      ]
    },
    {
      "cell_type": "code",
      "execution_count": 8,
      "metadata": {
        "colab": {
          "base_uri": "https://localhost:8080/",
          "height": 258
        },
        "id": "cHgNA8gDcFX4",
        "outputId": "7b116d3f-95de-4c60-f008-53ff6d521c11"
      },
      "outputs": [
        {
          "data": {
            "text/html": [
              "<div>\n",
              "<style scoped>\n",
              "    .dataframe tbody tr th:only-of-type {\n",
              "        vertical-align: middle;\n",
              "    }\n",
              "\n",
              "    .dataframe tbody tr th {\n",
              "        vertical-align: top;\n",
              "    }\n",
              "\n",
              "    .dataframe thead th {\n",
              "        text-align: right;\n",
              "    }\n",
              "</style>\n",
              "<table border=\"1\" class=\"dataframe\">\n",
              "  <thead>\n",
              "    <tr style=\"text-align: right;\">\n",
              "      <th></th>\n",
              "      <th>Country name</th>\n",
              "      <th>year</th>\n",
              "      <th>Life Ladder</th>\n",
              "      <th>Log GDP per capita</th>\n",
              "      <th>Social support</th>\n",
              "      <th>Healthy life expectancy at birth</th>\n",
              "      <th>Freedom to make life choices</th>\n",
              "      <th>Generosity</th>\n",
              "      <th>Perceptions of corruption</th>\n",
              "      <th>Positive affect</th>\n",
              "      <th>Negative affect</th>\n",
              "    </tr>\n",
              "  </thead>\n",
              "  <tbody>\n",
              "    <tr>\n",
              "      <th>0</th>\n",
              "      <td>Afghanistan</td>\n",
              "      <td>2008</td>\n",
              "      <td>3.723590</td>\n",
              "      <td>7.350416</td>\n",
              "      <td>0.450662</td>\n",
              "      <td>50.500000</td>\n",
              "      <td>0.718114</td>\n",
              "      <td>0.167652</td>\n",
              "      <td>0.881686</td>\n",
              "      <td>0.414297</td>\n",
              "      <td>0.258195</td>\n",
              "    </tr>\n",
              "    <tr>\n",
              "      <th>1</th>\n",
              "      <td>Afghanistan</td>\n",
              "      <td>2009</td>\n",
              "      <td>4.401778</td>\n",
              "      <td>7.508646</td>\n",
              "      <td>0.552308</td>\n",
              "      <td>50.799999</td>\n",
              "      <td>0.678896</td>\n",
              "      <td>0.190809</td>\n",
              "      <td>0.850035</td>\n",
              "      <td>0.481421</td>\n",
              "      <td>0.237092</td>\n",
              "    </tr>\n",
              "    <tr>\n",
              "      <th>2</th>\n",
              "      <td>Afghanistan</td>\n",
              "      <td>2010</td>\n",
              "      <td>4.758381</td>\n",
              "      <td>7.613900</td>\n",
              "      <td>0.539075</td>\n",
              "      <td>51.099998</td>\n",
              "      <td>0.600127</td>\n",
              "      <td>0.121316</td>\n",
              "      <td>0.706766</td>\n",
              "      <td>0.516907</td>\n",
              "      <td>0.275324</td>\n",
              "    </tr>\n",
              "    <tr>\n",
              "      <th>3</th>\n",
              "      <td>Afghanistan</td>\n",
              "      <td>2011</td>\n",
              "      <td>3.831719</td>\n",
              "      <td>7.581259</td>\n",
              "      <td>0.521104</td>\n",
              "      <td>51.400002</td>\n",
              "      <td>0.495901</td>\n",
              "      <td>0.163571</td>\n",
              "      <td>0.731109</td>\n",
              "      <td>0.479835</td>\n",
              "      <td>0.267175</td>\n",
              "    </tr>\n",
              "    <tr>\n",
              "      <th>4</th>\n",
              "      <td>Afghanistan</td>\n",
              "      <td>2012</td>\n",
              "      <td>3.782938</td>\n",
              "      <td>7.660506</td>\n",
              "      <td>0.520637</td>\n",
              "      <td>51.700001</td>\n",
              "      <td>0.530935</td>\n",
              "      <td>0.237588</td>\n",
              "      <td>0.775620</td>\n",
              "      <td>0.613513</td>\n",
              "      <td>0.267919</td>\n",
              "    </tr>\n",
              "  </tbody>\n",
              "</table>\n",
              "</div>"
            ],
            "text/plain": [
              "  Country name  year  Life Ladder  Log GDP per capita  Social support  \\\n",
              "0  Afghanistan  2008     3.723590            7.350416        0.450662   \n",
              "1  Afghanistan  2009     4.401778            7.508646        0.552308   \n",
              "2  Afghanistan  2010     4.758381            7.613900        0.539075   \n",
              "3  Afghanistan  2011     3.831719            7.581259        0.521104   \n",
              "4  Afghanistan  2012     3.782938            7.660506        0.520637   \n",
              "\n",
              "   Healthy life expectancy at birth  Freedom to make life choices  Generosity  \\\n",
              "0                         50.500000                      0.718114    0.167652   \n",
              "1                         50.799999                      0.678896    0.190809   \n",
              "2                         51.099998                      0.600127    0.121316   \n",
              "3                         51.400002                      0.495901    0.163571   \n",
              "4                         51.700001                      0.530935    0.237588   \n",
              "\n",
              "   Perceptions of corruption  Positive affect  Negative affect  \n",
              "0                   0.881686         0.414297         0.258195  \n",
              "1                   0.850035         0.481421         0.237092  \n",
              "2                   0.706766         0.516907         0.275324  \n",
              "3                   0.731109         0.479835         0.267175  \n",
              "4                   0.775620         0.613513         0.267919  "
            ]
          },
          "execution_count": 8,
          "metadata": {},
          "output_type": "execute_result"
        }
      ],
      "source": [
        "df = pd.read_excel('../dat/DataForTable2.1WHR2023.xls')\n",
        "df.head()"
      ]
    },
    {
      "cell_type": "code",
      "execution_count": 9,
      "metadata": {
        "colab": {
          "base_uri": "https://localhost:8080/"
        },
        "id": "f3_T2cSLePVf",
        "outputId": "ba857f03-600a-4df5-e8b4-6ac0a8376fd9"
      },
      "outputs": [
        {
          "name": "stdout",
          "output_type": "stream",
          "text": [
            "Number of countries: 165\n"
          ]
        }
      ],
      "source": [
        "# Make a list of countries in the data base\n",
        "countries_col = df[\"Country name\"]\n",
        "countries = []\n",
        "\n",
        "for country in countries_col:\n",
        "  if country not in countries:\n",
        "     countries.append(country)\n",
        "'''\n",
        "has_duplicates = len(countries) != len(set(countries))\n",
        "print(has_duplicates)\n",
        "'''\n",
        "print(\"Number of countries: \"+ str(len(countries)))\n"
      ]
    },
    {
      "cell_type": "code",
      "execution_count": 10,
      "metadata": {
        "colab": {
          "base_uri": "https://localhost:8080/"
        },
        "id": "ug051LBngeQT",
        "outputId": "573df29d-f2a9-4ba5-f40a-f47eeab4b23f"
      },
      "outputs": [
        {
          "name": "stdout",
          "output_type": "stream",
          "text": [
            "[2005, 2006, 2007, 2008, 2009, 2010, 2011, 2012, 2013, 2014, 2015, 2016, 2017, 2018, 2019, 2020, 2021, 2022]\n",
            "18\n"
          ]
        }
      ],
      "source": [
        "# Get all years in the data base\n",
        "years_col = df[\"year\"]\n",
        "years = []\n",
        "\n",
        "for year in years_col:\n",
        "  if year not in years:\n",
        "    years.append(year)\n",
        "years.sort()\n",
        "\n",
        "print(years)\n",
        "print(len(years))\n"
      ]
    },
    {
      "cell_type": "code",
      "execution_count": 11,
      "metadata": {
        "id": "F8JUVbZkd8JA"
      },
      "outputs": [],
      "source": [
        "# Make an empty data base for each feature (countries as rows and years as col)\n",
        "ladder_df = pd.DataFrame(index=countries, columns=years)\n",
        "gdp_df = pd.DataFrame(index=countries, columns=years)\n",
        "social_sup_df = pd.DataFrame(index=countries, columns=years)\n",
        "corruption_df = pd.DataFrame(index=countries, columns=years)\n",
        "life_choices_df = pd.DataFrame(index=countries, columns=years)\n",
        "generosity_df = pd.DataFrame(index=countries, columns=years)\n",
        "\n",
        "# Make a feature dict for each country (year:value)\n",
        "for country in countries:\n",
        "    df_country = df[df[\"Country name\"] == country]\n",
        "    ladder = {row[\"year\"]: row[\"Life Ladder\"] for index, row in df_country.iterrows()}\n",
        "    gdp = {row[\"year\"]: row[\"Log GDP per capita\"] for index, row in df_country.iterrows()}\n",
        "    social_sup = {row[\"year\"]: row[\"Social support\"] for index, row in df_country.iterrows()}\n",
        "    corruption = {row[\"year\"]: row[\"Perceptions of corruption\"] for index, row in df_country.iterrows()}\n",
        "    life_choices = {row[\"year\"]: row[\"Freedom to make life choices\"] for index, row in df_country.iterrows()}\n",
        "    generosity = {row[\"year\"]: row[\"Generosity\"] for index, row in df_country.iterrows()}\n",
        "\n",
        "    # Fill each feature data frame\n",
        "    for i in ladder:\n",
        "      value = ladder[i]\n",
        "      ladder_df.at[country,i] = value\n",
        "\n",
        "    for i in gdp:\n",
        "      value = gdp[i]\n",
        "      gdp_df.at[country,i] = value\n",
        "\n",
        "    for i in social_sup:\n",
        "      value = social_sup[i]\n",
        "      social_sup_df.at[country,i] = value\n",
        "\n",
        "    for i in corruption:\n",
        "      value = corruption[i]\n",
        "      corruption_df.at[country,i] = value\n",
        "\n",
        "    for i in life_choices:\n",
        "      value = life_choices[i]\n",
        "      life_choices_df.at[country,i] = value\n",
        "\n",
        "    for i in generosity:\n",
        "      value = generosity[i]\n",
        "      generosity_df.at[country,i] = value\n"
      ]
    },
    {
      "cell_type": "code",
      "execution_count": 12,
      "metadata": {
        "colab": {
          "base_uri": "https://localhost:8080/",
          "height": 178
        },
        "id": "CRIjRfOhygfJ",
        "outputId": "41466501-238d-4944-b5a1-f0e869b2f7e2"
      },
      "outputs": [],
      "source": [
        "# export data frames to excel files\n",
        "excel_file_path1 = 'Life_Ladder.xlsx'\n",
        "excel_file_path2 = './GDP.xlsx'\n",
        "excel_file_path3 = './Social_Support.xlsx'\n",
        "excel_file_path4 = './Corruption.xlsx'\n",
        "excel_file_path5 = './Life_Choices.xlsx'\n",
        "excel_file_path6 = './Generosity.xlsx'\n",
        "\n",
        "ladder_df.to_excel(excel_file_path1, index=True)\n",
        "gdp_df.to_excel(excel_file_path2, index=True)\n",
        "social_sup_df.to_excel(excel_file_path3, index=True)\n",
        "corruption_df.to_excel(excel_file_path4, index=True)\n",
        "life_choices_df.to_excel(excel_file_path5, index=True)\n",
        "generosity_df.to_excel(excel_file_path6, index=True) \n"
      ]
    }
  ],
  "metadata": {
    "colab": {
      "provenance": []
    },
    "kernelspec": {
      "display_name": "Python 3",
      "name": "python3"
    },
    "language_info": {
      "codemirror_mode": {
        "name": "ipython",
        "version": 3
      },
      "file_extension": ".py",
      "mimetype": "text/x-python",
      "name": "python",
      "nbconvert_exporter": "python",
      "pygments_lexer": "ipython3",
      "version": "3.11.3"
    }
  },
  "nbformat": 4,
  "nbformat_minor": 0
}
