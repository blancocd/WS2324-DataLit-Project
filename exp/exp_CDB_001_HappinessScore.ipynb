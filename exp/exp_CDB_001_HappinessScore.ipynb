{
 "cells": [
  {
   "cell_type": "markdown",
   "metadata": {},
   "source": [
    "## Happiness Score from the [World Happiness Report](https://worldhappiness.report/)\n",
    "In this notebook we will use the \"World Happiness Report\" datasets from 2015 to 2023. This dataset is based on the yearly Gallup World Poll which surveys around 100,000 people from 130 countries. The main metric is the Cantril ladder which asks respondents to think of a ladder and their standing on it with the best possible life for them being a 10 and the worst possible life being a 0. We select the five countries with the highest variance across the years with respect to the Cantrill Ladder Score.\n",
    "\n",
    "The report looks into six key factors that could influence the Cantril ladder evaluation. These extrapolate the evaluation to national metrics: GDP per capita, Healthy Life Expectancy, Generosity, Social Support, Freedom to make life choices, Perceptions of corruption, and Dystopia. We select the eight countries with highest variance across Healthy Life Expectancy, Generosity, and Social Support from 2020 to 2023."
   ]
  },
  {
   "cell_type": "code",
   "execution_count": 19,
   "metadata": {},
   "outputs": [],
   "source": [
    "import pandas as pd\n",
    "import numpy as np\n",
    "import matplotlib.pyplot as plt\n",
    "import os"
   ]
  },
  {
   "cell_type": "code",
   "execution_count": 20,
   "metadata": {},
   "outputs": [
    {
     "data": {
      "text/plain": [
       "['2015_Chapter2OnlineData_Expanded-with-Trust-and-Governance.xlsx',\n",
       " '2016_Online-data-for-chapter-2-whr-2016.xlsx',\n",
       " '2017_online-data-chapter-2-whr-2017.xlsx',\n",
       " '2018_WHR2018Chapter2OnlineData.xls',\n",
       " '2019_Chapter2OnlineData.xls',\n",
       " '2020_WHR20_DataForFigure2.1.xls',\n",
       " '2021_DataForFigure2.1WHR2021C2.xls',\n",
       " '2022_Appendix_2_Data_for_Figure_2.1.xls',\n",
       " '2023_DataForFigure2.1WHR2023.xls',\n",
       " 'Explainedby']"
      ]
     },
     "execution_count": 20,
     "metadata": {},
     "output_type": "execute_result"
    }
   ],
   "source": [
    "directory_path = './WHR'\n",
    "# Get the list of all files in the directory\n",
    "file_list = os.listdir(directory_path)\n",
    "file_list.sort()\n",
    "file_list"
   ]
  },
  {
   "cell_type": "code",
   "execution_count": 18,
   "metadata": {},
   "outputs": [
    {
     "data": {
      "text/plain": [
       "Index(['Country name', 'Ladder score', 'Standard error of ladder score',\n",
       "       'upperwhisker', 'lowerwhisker', 'Logged GDP per capita',\n",
       "       'Social support', 'Healthy life expectancy',\n",
       "       'Freedom to make life choices', 'Generosity',\n",
       "       'Perceptions of corruption', 'Ladder score in Dystopia',\n",
       "       'Explained by: Log GDP per capita', 'Explained by: Social support',\n",
       "       'Explained by: Healthy life expectancy',\n",
       "       'Explained by: Freedom to make life choices',\n",
       "       'Explained by: Generosity', 'Explained by: Perceptions of corruption',\n",
       "       'Dystopia + residual'],\n",
       "      dtype='object')"
      ]
     },
     "execution_count": 18,
     "metadata": {},
     "output_type": "execute_result"
    }
   ],
   "source": [
    "DF.columns"
   ]
  },
  {
   "cell_type": "code",
   "execution_count": null,
   "metadata": {},
   "outputs": [],
   "source": []
  },
  {
   "cell_type": "code",
   "execution_count": null,
   "metadata": {},
   "outputs": [],
   "source": []
  }
 ],
 "metadata": {
  "kernelspec": {
   "display_name": "base",
   "language": "python",
   "name": "python3"
  },
  "language_info": {
   "codemirror_mode": {
    "name": "ipython",
    "version": 3
   },
   "file_extension": ".py",
   "mimetype": "text/x-python",
   "name": "python",
   "nbconvert_exporter": "python",
   "pygments_lexer": "ipython3",
   "version": "3.11.3"
  }
 },
 "nbformat": 4,
 "nbformat_minor": 2
}
